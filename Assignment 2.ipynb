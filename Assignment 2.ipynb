{
 "cells": [
  {
   "cell_type": "code",
   "execution_count": 7,
   "metadata": {},
   "outputs": [
    {
     "data": {
      "text/plain": [
       "10"
      ]
     },
     "execution_count": 7,
     "metadata": {},
     "output_type": "execute_result"
    }
   ],
   "source": [
    "                             # Task 1 #\n",
    "#--------------------------------------------------------------------------------#\n",
    "#1.1 \n",
    "\n",
    "# myreduce function which accepts a function and a list. This function aggregates and provides a single result\n",
    "def myreduce(func,lst):\n",
    "    j = lst[0]\n",
    "    for i in lst[1:]:\n",
    "        j=func(j,i)\n",
    "    return j\n",
    "        \n",
    "# function that accepts two numbers and adds them    \n",
    "addnum = lambda a,b:a+b\n",
    "\n",
    "# call myreduce funcation using the addnum function and a list of numbers to be added\n",
    "result = myreduce(addnum,[1,2,3,4])\n",
    "\n",
    "result\n",
    "\n",
    "\n",
    "    "
   ]
  },
  {
   "cell_type": "code",
   "execution_count": 13,
   "metadata": {},
   "outputs": [
    {
     "data": {
      "text/plain": [
       "['A', 'C', 'D']"
      ]
     },
     "execution_count": 13,
     "metadata": {},
     "output_type": "execute_result"
    }
   ],
   "source": [
    "#1.2 \n",
    "\n",
    "# myfilter function which accepts a function and a list as inputs. It filters out all the elelmnts of the list which are False. \n",
    "def myfilter(funct,ls):\n",
    "    result=[]\n",
    "    for i in ls:\n",
    "        if funct(i):\n",
    "            result.append(i)\n",
    "    return result\n",
    "\n",
    "\n",
    "# simple function which accepts a letter and checks if it is upper case or not.\n",
    "def chkupper(x):\n",
    "    if x.islower():\n",
    "        return False\n",
    "    else:\n",
    "        return True\n",
    "\n",
    "# call myfilter() using chkupper function and a list of letters to be checked for upper case. \n",
    "out = myfilter(chkupper,['A','a','b','b','C','D'])\n",
    "\n",
    "out"
   ]
  },
  {
   "cell_type": "code",
   "execution_count": 39,
   "metadata": {},
   "outputs": [
    {
     "name": "stdout",
     "output_type": "stream",
     "text": [
      "result1 :['A', 'C', 'A', 'D', 'E', 'G', 'I', 'L', 'D']\n",
      "results2 :['X', 'XX', 'XXX', 'XXXX', 'Y', 'YY', 'YYY', 'YYYY', 'Z', 'ZZ', 'ZZZ', 'ZZZZ']\n",
      "results3 :['X', 'Y', 'Z', 'XX', 'YY', 'ZZ', 'XXX', 'YYY', 'ZZZ', 'XXXX', 'YYYY', 'ZZZZ']\n",
      "results4 :[2, 3, 4, 3, 4, 5, 4, 5, 6]\n",
      "results5 :[[2, 3, 4, 5], [3, 4, 5, 6], [4, 5, 6, 7], [5, 6, 7, 8]]\n",
      "results6 :[(1, 1), (2, 1), (3, 1), (1, 2), (2, 2), (3, 2), (1, 3), (2, 3), (3, 3)]\n"
     ]
    }
   ],
   "source": [
    "# 2 List Comprehensions\n",
    "# ['A', 'C', 'A', 'D', 'G', 'I', ’L’, ‘ D’]\n",
    "\n",
    "input1 = 'ACADEGILD'\n",
    "\n",
    "result1 = [i[0] for i in input1]\n",
    "\n",
    "print( 'result1 :' + str(result1))\n",
    "\n",
    "# ['x', 'xx', 'xxx', 'xxxx', 'y', 'yy', 'yyy', 'yyyy', 'z', 'zz', 'zzz', 'zzzz']\n",
    "\n",
    "input2 = 'XYZ'\n",
    "\n",
    "results2 = [i[0]*n for i in input2 for n in range(1,5)]\n",
    "\n",
    "print('results2 :' + str(results2))\n",
    "\n",
    "#['x', 'y', 'z', 'xx', 'yy', 'zz', 'xx', 'yy', 'zz', 'xxxx', 'yyyy', 'zzzz']\n",
    "\n",
    "input3 = 'XYZ'\n",
    "\n",
    "results3 = [i[0]*n for n in range(1,5) for i in input3]\n",
    "\n",
    "print('results3 :' + str(results3))\n",
    "\n",
    "#[[2], [3], [4], [3], [4], [5], [4], [5], [6]]\n",
    "\n",
    "input4 = [2,3,4]\n",
    "\n",
    "results4 = [i+n for i in input4 for n in range(0,3)]\n",
    "\n",
    "print('results4 :' + str(results4))\n",
    "\n",
    "\n",
    "#[[2, 3, 4, 5], [3, 4, 5, 6], [4, 5, 6, 7], [5, 6, 7, 8]]\n",
    "\n",
    "input5 = [2,3,4,5]\n",
    "\n",
    "results5 = [[i+n for i in input5] for n in range (0,4)]\n",
    "\n",
    "print('results5 :' + str(results5))\n",
    "\n",
    "#[(1, 1), (2, 1), (3, 1), (1, 2), (2, 2), (3, 2), (1, 3), (2, 3), (3, 3)]\n",
    "\n",
    "input6 = [1,2,3]\n",
    "\n",
    "results6 = [(j,i) for i in input6 for j in input6]\n",
    "\n",
    "print ('results6 :' + str(results6))\n"
   ]
  },
  {
   "cell_type": "code",
   "execution_count": 56,
   "metadata": {},
   "outputs": [
    {
     "name": "stdout",
     "output_type": "stream",
     "text": [
      "the longest word from the input list is : ccddffee\n"
     ]
    }
   ],
   "source": [
    "#3\n",
    "from functools import reduce\n",
    "\n",
    "find_longest = lambda a,b : a if (len(a) > len(b)) else b\n",
    "              \n",
    "lst = ['aaa','bbbb','ccddffee','j']\n",
    "\n",
    "out = reduce(find_longest,lst)\n",
    "    \n",
    "print('the longest word from the input list is : ' + out)\n",
    "    \n",
    "        "
   ]
  },
  {
   "cell_type": "code",
   "execution_count": 4,
   "metadata": {},
   "outputs": [
    {
     "name": "stdout",
     "output_type": "stream",
     "text": [
      "Enter length of side 1 : 3\n",
      "Enter length of side 2 : 5\n",
      "Enter length of side 3 : 4\n",
      "Length of side  1 is 3.0\n",
      "Length of side  2 is 5.0\n",
      "Length of side  3 is 4.0\n",
      "Area of the triange is 6.000000: \n"
     ]
    }
   ],
   "source": [
    "# Task 2\n",
    "# 1.1 - Write a Python Program(with class concepts) to find the area of the triangle\n",
    "\n",
    "# Define parent class\n",
    "class Polygon:\n",
    "    def __init__(self, no_of_sides):\n",
    "        self.no_of_sides = no_of_sides\n",
    "        self.sides = [0 for i in range(no_of_sides)]\n",
    "    \n",
    "    def get_input_sides(self):\n",
    "        self.sides = [float(input(\"Enter length of side \" + str(i+1) + \" : \" )) for i in range(self.no_of_sides)]\n",
    "        \n",
    "    def print_sides(self):\n",
    "        for i in range(self.no_of_sides):\n",
    "            print(\"Length of side \", i+1, \"is\", self.sides[i] )\n",
    "\n",
    "# Define sub-class that inherits from parent class            \n",
    "class Triangle(Polygon):\n",
    "    def __init__(self, *args):\n",
    "        super(Polygon, self).__init__(*args)\n",
    "        Polygon.__init__(self,3)\n",
    "\n",
    "# Define method to calculate the area\n",
    "    def find_area(self):\n",
    "        a,b,c = self.sides\n",
    "        s = (a+b+c)/2\n",
    "        area = (s*(s-a)*(s-b)*(s-c)) ** 0.5\n",
    "        print(\"Area of the triange is %f: \" %area)\n",
    "\n",
    "# Create the instance that invokes the class and method\n",
    "t=Triangle()\n",
    "t.get_input_sides()\n",
    "t.print_sides()\n",
    "t.find_area()\n"
   ]
  },
  {
   "cell_type": "code",
   "execution_count": 28,
   "metadata": {},
   "outputs": [
    {
     "name": "stdout",
     "output_type": "stream",
     "text": [
      "The result list is : ['abcdef', 'dddddd', 'please']\n"
     ]
    }
   ],
   "source": [
    "#1.2\n",
    "\n",
    "def filter_long_words(lst,n):\n",
    "    result = []\n",
    "    for i in lst:\n",
    "        if len(i) > n:\n",
    "            result.append(i)\n",
    "    return result\n",
    "\n",
    "\n",
    "l = [\"abcdef\",\"ac\",\"dddddd\",\"fcb\",\"please\"]\n",
    "a=str(filter_long_words(l,3))\n",
    "print(\"The result list is : \" + a)"
   ]
  },
  {
   "cell_type": "code",
   "execution_count": 30,
   "metadata": {},
   "outputs": [
    {
     "name": "stdout",
     "output_type": "stream",
     "text": [
      "The result list having length of each word is : [6, 2, 6, 3, 6]\n"
     ]
    }
   ],
   "source": [
    "#2.1\n",
    "\n",
    "def map_word_to_int(lst):\n",
    "    result = []\n",
    "    for i in lst:\n",
    "        result.append(len(i))\n",
    "    return result\n",
    "\n",
    "l =  [\"abcdef\",\"ac\",\"dddddd\",\"fcb\",\"please\"]\n",
    "a = str(map_word_to_int(l))\n",
    "print(\"The result list having length of each word is : \" + a)"
   ]
  },
  {
   "cell_type": "code",
   "execution_count": 38,
   "metadata": {},
   "outputs": [
    {
     "name": "stdout",
     "output_type": "stream",
     "text": [
      "The result is :True\n"
     ]
    }
   ],
   "source": [
    "#2.2\n",
    "\n",
    "def is_vowel(inp):\n",
    "    if inp.lower() == 'a' or inp.lower() == 'e' or inp.lower() == 'i' or inp.lower() == 'o' or inp.lower() == 'u':\n",
    "        return True\n",
    "    else:\n",
    "        return False\n",
    "\n",
    "a = is_vowel('u')\n",
    "print(\"The result is :\" + str(a))"
   ]
  },
  {
   "cell_type": "code",
   "execution_count": null,
   "metadata": {},
   "outputs": [],
   "source": []
  }
 ],
 "metadata": {
  "kernelspec": {
   "display_name": "Python 3",
   "language": "python",
   "name": "python3"
  },
  "language_info": {
   "codemirror_mode": {
    "name": "ipython",
    "version": 3
   },
   "file_extension": ".py",
   "mimetype": "text/x-python",
   "name": "python",
   "nbconvert_exporter": "python",
   "pygments_lexer": "ipython3",
   "version": "3.7.4"
  }
 },
 "nbformat": 4,
 "nbformat_minor": 2
}
